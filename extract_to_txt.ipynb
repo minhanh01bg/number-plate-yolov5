{
 "cells": [
  {
   "cell_type": "code",
   "execution_count": 2,
   "metadata": {},
   "outputs": [],
   "source": [
    "from glob import glob\n",
    "import os\n",
    "import cv2\n",
    "import numpy as np\n",
    "import pandas as pd\n",
    "import tensorflow as tf\n",
    "import matplotlib.pyplot as plt\n",
    "import xml.etree.ElementTree as xet\n",
    "import shutil"
   ]
  },
  {
   "cell_type": "code",
   "execution_count": 3,
   "metadata": {},
   "outputs": [],
   "source": [
    "path = glob('./data/number-plate-detection/images/*.xml')\n",
    "def get_label_xml(path):\n",
    "    labels_dict = dict(filepath=[],xmin=[],xmax=[],ymin=[],ymax=[])\n",
    "    for filename in path:\n",
    "\n",
    "        info = xet.parse(filename)\n",
    "        root = info.getroot()\n",
    "        member_object = root.find('object')\n",
    "        labels_info = member_object.find('bndbox')\n",
    "        xmin = int(labels_info.find('xmin').text)\n",
    "        xmax = int(labels_info.find('xmax').text)\n",
    "        ymin = int(labels_info.find('ymin').text)\n",
    "        ymax = int(labels_info.find('ymax').text)\n",
    "\n",
    "        labels_dict['filepath'].append(filename)\n",
    "        labels_dict['xmin'].append(xmin)\n",
    "        labels_dict['xmax'].append(xmax)\n",
    "        labels_dict['ymin'].append(ymin)\n",
    "        labels_dict['ymax'].append(ymax)\n",
    "    return labels_dict\n",
    "labels_dict = get_label_xml(path)\n",
    "labels_dict = pd.DataFrame(labels_dict)"
   ]
  },
  {
   "cell_type": "code",
   "execution_count": 4,
   "metadata": {},
   "outputs": [
    {
     "name": "stdout",
     "output_type": "stream",
     "text": [
      "(225,)\n"
     ]
    }
   ],
   "source": [
    "def getFilename(filename,str='./data/number-plate-detection/images'):\n",
    "    filename_image = xet.parse(filename).getroot().find('filename').text\n",
    "    filepath_image = os.path.join(str,filename_image)\n",
    "    return filepath_image\n",
    "\n",
    "\n",
    "filename1 = labels_dict['filepath'][0]\n",
    "filename1 = getFilename(filename1)\n",
    "filename1 = labels_dict['filepath'].apply(getFilename)\n",
    "print(filename1.shape)"
   ]
  },
  {
   "cell_type": "code",
   "execution_count": 5,
   "metadata": {},
   "outputs": [],
   "source": [
    "df = labels_dict\n",
    "\n",
    "path_2 = glob('./data/(2)/annotations/*.xml')\n",
    "labels_dict = get_label_xml(path_2)\n",
    "labels_dict = pd.DataFrame(labels_dict)\n",
    "\n",
    "filename2 = labels_dict['filepath'][0]\n",
    "filename2 = getFilename(filename2,str='./data/(2)/images')\n",
    "filename2 = labels_dict['filepath'].apply(getFilename,str='./data/(2)/images')"
   ]
  },
  {
   "cell_type": "code",
   "execution_count": 6,
   "metadata": {},
   "outputs": [
    {
     "name": "stdout",
     "output_type": "stream",
     "text": [
      "(658, 5)\n",
      "(658,)\n"
     ]
    }
   ],
   "source": [
    "df = pd.concat([df,labels_dict],ignore_index=True)\n",
    "filename = pd.concat([filename1,filename2],ignore_index=True)\n",
    "print(df.shape)\n",
    "print(filename.shape)\n",
    "image_path = list(filename)"
   ]
  },
  {
   "cell_type": "code",
   "execution_count": 7,
   "metadata": {},
   "outputs": [
    {
     "name": "stdout",
     "output_type": "stream",
     "text": [
      "Already exists:  ./data_plate_detect/data/train/images/\n",
      "Already exists:  ./data_plate_detect/data/train/labels/\n",
      "Already exists:  ./data_plate_detect/data/val/images/\n",
      "Already exists:  ./data_plate_detect/data/val/labels/\n"
     ]
    }
   ],
   "source": [
    "path_train_images = './data_plate_detect/data/train/images/'\n",
    "path_train_labels = './data_plate_detect/data/train/labels/'\n",
    "path_val_images = './data_plate_detect/data/val/images/'\n",
    "path_val_labels = './data_plate_detect/data/val/labels/'\n",
    "def check_folder(path):\n",
    "    if not os.path.exists(path):\n",
    "        os.makedirs(path)\n",
    "        print(\"Created folder: \", path)\n",
    "    else:\n",
    "        shutil.rmtree(path)\n",
    "        os.makedirs(path)\n",
    "        print(\"Already exists: \", path)\n",
    "\n",
    "check_folder(path_train_images)\n",
    "check_folder(path_train_labels)\n",
    "check_folder(path_val_images)\n",
    "check_folder(path_val_labels)"
   ]
  },
  {
   "cell_type": "code",
   "execution_count": 8,
   "metadata": {},
   "outputs": [],
   "source": [
    "cnt = 0\n",
    "for i in range(len(image_path)):\n",
    "    imageID = image_path[i].split('/')[-1].split('.')[0]\n",
    "    imageID = imageID.split('\\\\')[-1]\n",
    "    # print(imageID)\n",
    "    x1, y1, x2, y2 = df['xmin'][i], df['ymin'][i], df['xmax'][i], df['ymax'][i]\n",
    "    x,y,w,h = x1, y1, x2-x1, y2-y1\n",
    "    image = cv2.imread(image_path[i])\n",
    "    x = x / image.shape[1]\n",
    "    y = y / image.shape[0]\n",
    "    w = w / image.shape[1]\n",
    "    h = h / image.shape[0]\n",
    "    cnt+=1\n",
    "    path_images = path_val_images\n",
    "    path_labels = path_val_labels\n",
    "    if cnt<=0.9*len(image_path):\n",
    "        path_images = path_train_images\n",
    "        path_labels = path_train_labels\n",
    "    cv2.imwrite(path_images + imageID + '.jpg', image)\n",
    "    if os.path.exists(path_labels + imageID + '.txt') != True:\n",
    "        with open(path_labels + imageID + '.txt', 'w') as f:\n",
    "            f.write(str(0) + ' ' + str(x) + ' ' + str(y) + ' ' + str(w) + ' ' + str(h))\n",
    "    else:\n",
    "        with open(path_labels + imageID + '.txt', 'a') as f:\n",
    "            f.write('\\n' + str(0) + ' ' + str(x) + ' ' + str(y) + ' ' + str(w) + ' ' + str(h))"
   ]
  }
 ],
 "metadata": {
  "kernelspec": {
   "display_name": "yolo",
   "language": "python",
   "name": "python3"
  },
  "language_info": {
   "codemirror_mode": {
    "name": "ipython",
    "version": 3
   },
   "file_extension": ".py",
   "mimetype": "text/x-python",
   "name": "python",
   "nbconvert_exporter": "python",
   "pygments_lexer": "ipython3",
   "version": "3.10.6"
  }
 },
 "nbformat": 4,
 "nbformat_minor": 2
}
